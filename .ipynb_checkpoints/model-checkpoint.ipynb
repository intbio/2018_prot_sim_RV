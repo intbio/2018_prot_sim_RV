{
 "cells": [
  {
   "cell_type": "markdown",
   "metadata": {},
   "source": [
    "#Проект. Построение графика зависимости концентрации белка от времени."
   ]
  },
  {
   "cell_type": "code",
   "execution_count": 7,
   "metadata": {},
   "outputs": [],
   "source": [
    "%matplotlib inline\n",
    "#Используемые библиотеки\n",
    "from pylab import *\n",
    "import matplotlib.pyplot as plt\n",
    "import math\n",
    "import scipy"
   ]
  },
  {
   "cell_type": "code",
   "execution_count": 8,
   "metadata": {},
   "outputs": [],
   "source": [
    "#Переменные - ошибка в них, из-за этого в клетке слишком большая концентрация белка\n",
    "CellVolume = 7*math.pow(10,-15) #В литрах - объём клетки E.Coli\n",
    "GeneNum = 4288 #Число генов у E.Coli\n",
    "CmrnaO = 5.48*math.pow(10,-6)/(CellVolume*GeneNum) #В мкмоль/л - начальная концентрация мРНК в клетке E.Coli \n",
    "TransNum = 60 #Число трансляций с одной мРНК в клетке E.Coli\n",
    "#RNAPNum = 3000 #Число РНК-полимераз II в клетке E.Coli\n",
    "CprotO = CmrnaO*TransNum #В мкмоль/л - начальная концентрация белка в клетке E.Coli\n",
    "CRNAP = 5.48*math.pow(10,-6)/(CellVolume*GeneNum) #В мкмоль/л - концентрация РНК-полимеразы II в клетке E.Coli\n",
    "Cribosomes = (420*math.pow(10,-15)/(27*math.pow(10,5)*1.66*math.pow(10,-24)))*math.pow(10,6)/CellVolume #В мкмоль/л - концентрация рибосом в клетке E.Coli - наибольшая ошибка, вероятно, здесь\n",
    "koc = 0.03 #В 1/c - Open complex formation rate\n",
    "Np = 1 #Число копий плазмиды в клетке E.Coli\n",
    "Kp = 10 #В µM - константа диссоциации для связывания РНК-полимеразы II с ДНК\n",
    "kdm = 0.00278 #В 1/c - фактор деградации мРНК\n",
    "kdp = 0.00028 #В 1/c - фактор деградации белка\n",
    "kt = 0.0667 #В 1/c - фактор инициации трансляции"
   ]
  },
  {
   "cell_type": "code",
   "execution_count": 9,
   "metadata": {},
   "outputs": [
    {
     "data": {
      "text/plain": [
       "Text(0.5,1,'Зависимость концентрации белка в клетке от времени')"
      ]
     },
     "execution_count": 9,
     "metadata": {},
     "output_type": "execute_result"
    },
    {
     "data": {
      "image/png": "[encoded data removed]",
      "text/plain": [
       "<Figure size 576x432 with 1 Axes>"
      ]
     },
     "metadata": {
      "needs_background": "light"
     },
     "output_type": "display_data"
    }
   ],
   "source": [
    "#Построение графика\n",
    "fig = plt.figure('MyProj',[8, 6])\n",
    "upbd = 10 #Верхняя граница, нижняя - 0\n",
    "k = 0\n",
    "for dt in np.arange(0,upbd,0.02):\n",
    "    if (k == 0):\n",
    "        Cmrna = CmrnaO\n",
    "        Cprot = CprotO\n",
    "    Cmrna = Cmrna*(1 - kdm*dt) + koc*Np*(CRNAP/(CRNAP + Kp))*dt\n",
    "    Cprot = Cprot*(1-kdp*dt) + kt*Cmrna*Cribosomes*dt\n",
    "    plt.scatter(dt,Cprot, c = 'red')\n",
    "    k += 1\n",
    "\n",
    "grid1 = plt.grid(True)\n",
    "plt.ylabel('Концентрация белка,µМоль/л')\n",
    "plt.xlabel('Время, с')\n",
    "plt.title('Зависимость концентрации белка в клетке от времени')"
   ]
  },
  {
   "cell_type": "code",
   "execution_count": null,
   "metadata": {},
   "outputs": [],
   "source": []
  }
 ],
 "metadata": {
  "kernelspec": {
   "display_name": "Python 3",
   "language": "python",
   "name": "python3"
  },
  "language_info": {
   "codemirror_mode": {
    "name": "ipython",
    "version": 3
   },
   "file_extension": ".py",
   "mimetype": "text/x-python",
   "name": "python",
   "nbconvert_exporter": "python",
   "pygments_lexer": "ipython3",
   "version": "3.7.0"
  }
 },
 "nbformat": 4,
 "nbformat_minor": 2
}
